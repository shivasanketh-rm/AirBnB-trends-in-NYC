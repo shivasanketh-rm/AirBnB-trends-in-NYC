{
  "nbformat": 4,
  "nbformat_minor": 0,
  "metadata": {
    "colab": {
      "name": "Untitled7.ipynb",
      "provenance": []
    },
    "kernelspec": {
      "name": "python3",
      "display_name": "Python 3"
    },
    "accelerator": "GPU"
  },
  "cells": [
    {
      "cell_type": "code",
      "metadata": {
        "id": "izlSEMGAgZOk",
        "colab_type": "code",
        "colab": {
          "base_uri": "https://localhost:8080/",
          "height": 198
        },
        "outputId": "bbcb7b36-43a5-4f79-ede1-749b5f1d45d7"
      },
      "source": [
        "import numpy as np\n",
        "import pandas as pd\n",
        "import seaborn as sns\n",
        "\n",
        "reviewsDF = pd.read_csv(\"./reviews_detail.csv\")\n",
        "reviewsDF = reviewsDF.dropna()\n",
        "reviewsDF.head()"
      ],
      "execution_count": 2,
      "outputs": [
        {
          "output_type": "execute_result",
          "data": {
            "text/html": [
              "<div>\n",
              "<style scoped>\n",
              "    .dataframe tbody tr th:only-of-type {\n",
              "        vertical-align: middle;\n",
              "    }\n",
              "\n",
              "    .dataframe tbody tr th {\n",
              "        vertical-align: top;\n",
              "    }\n",
              "\n",
              "    .dataframe thead th {\n",
              "        text-align: right;\n",
              "    }\n",
              "</style>\n",
              "<table border=\"1\" class=\"dataframe\">\n",
              "  <thead>\n",
              "    <tr style=\"text-align: right;\">\n",
              "      <th></th>\n",
              "      <th>listing_id</th>\n",
              "      <th>id</th>\n",
              "      <th>date</th>\n",
              "      <th>reviewer_id</th>\n",
              "      <th>reviewer_name</th>\n",
              "      <th>comments</th>\n",
              "    </tr>\n",
              "  </thead>\n",
              "  <tbody>\n",
              "    <tr>\n",
              "      <th>0</th>\n",
              "      <td>9452127</td>\n",
              "      <td>58944174</td>\n",
              "      <td>2016-01-05</td>\n",
              "      <td>6279455</td>\n",
              "      <td>Ravi</td>\n",
              "      <td>Great place. Helena was prompt to reply and ve...</td>\n",
              "    </tr>\n",
              "    <tr>\n",
              "      <th>1</th>\n",
              "      <td>9452127</td>\n",
              "      <td>59446510</td>\n",
              "      <td>2016-01-10</td>\n",
              "      <td>23770684</td>\n",
              "      <td>Shiv</td>\n",
              "      <td>We had previously stayed at the apartment over...</td>\n",
              "    </tr>\n",
              "    <tr>\n",
              "      <th>2</th>\n",
              "      <td>9452127</td>\n",
              "      <td>59557387</td>\n",
              "      <td>2016-01-11</td>\n",
              "      <td>29070567</td>\n",
              "      <td>Jandall</td>\n",
              "      <td>Helena was a great host and extremely accommod...</td>\n",
              "    </tr>\n",
              "    <tr>\n",
              "      <th>3</th>\n",
              "      <td>9452127</td>\n",
              "      <td>62664325</td>\n",
              "      <td>2016-02-15</td>\n",
              "      <td>58381183</td>\n",
              "      <td>Cody</td>\n",
              "      <td>Helena was extremely accessible throughout the...</td>\n",
              "    </tr>\n",
              "    <tr>\n",
              "      <th>4</th>\n",
              "      <td>9452127</td>\n",
              "      <td>63410004</td>\n",
              "      <td>2016-02-22</td>\n",
              "      <td>29014080</td>\n",
              "      <td>Magnus</td>\n",
              "      <td>Awesome place! Looks just as in photos. Plenty...</td>\n",
              "    </tr>\n",
              "  </tbody>\n",
              "</table>\n",
              "</div>"
            ],
            "text/plain": [
              "   listing_id  ...                                           comments\n",
              "0     9452127  ...  Great place. Helena was prompt to reply and ve...\n",
              "1     9452127  ...  We had previously stayed at the apartment over...\n",
              "2     9452127  ...  Helena was a great host and extremely accommod...\n",
              "3     9452127  ...  Helena was extremely accessible throughout the...\n",
              "4     9452127  ...  Awesome place! Looks just as in photos. Plenty...\n",
              "\n",
              "[5 rows x 6 columns]"
            ]
          },
          "metadata": {
            "tags": []
          },
          "execution_count": 2
        }
      ]
    },
    {
      "cell_type": "code",
      "metadata": {
        "id": "ieF2sXgRlMzm",
        "colab_type": "code",
        "colab": {
          "base_uri": "https://localhost:8080/",
          "height": 35
        },
        "outputId": "63957eba-eeb1-42a6-c940-8363af747257"
      },
      "source": [
        "reviewsDF.shape"
      ],
      "execution_count": 3,
      "outputs": [
        {
          "output_type": "execute_result",
          "data": {
            "text/plain": [
              "(800995, 6)"
            ]
          },
          "metadata": {
            "tags": []
          },
          "execution_count": 3
        }
      ]
    },
    {
      "cell_type": "code",
      "metadata": {
        "id": "HG40bPMylSw6",
        "colab_type": "code",
        "colab": {
          "base_uri": "https://localhost:8080/",
          "height": 486
        },
        "outputId": "6317ba26-49ca-4e0f-fde7-0dfec4da0abc"
      },
      "source": [
        "from nltk.sentiment.vader import SentimentIntensityAnalyzer\n",
        "sid = SentimentIntensityAnalyzer()\n",
        "\n",
        "reviewsDF['polarity_value']=\"Default\"\n",
        "reviewsDF['neg']=0.0\n",
        "reviewsDF['pos']=0.0\n",
        "reviewsDF['neu']=0.0\n",
        "reviewsDF['compound']=0.0\n",
        "for index,row in reviewsDF.iterrows():\n",
        "    ss = sid.polarity_scores(row['comments'])\n",
        "    reviewsDF.set_value(index,'polarity_value',ss)\n",
        "    reviewsDF.set_value(index,'neg',ss['neg'])\n",
        "    reviewsDF.set_value(index,'pos',ss['pos'])\n",
        "    reviewsDF.set_value(index,'neu',ss['neu'])\n",
        "    reviewsDF.set_value(index,'compound',ss['compound'])\n",
        "reviewsDF.head()"
      ],
      "execution_count": 9,
      "outputs": [
        {
          "output_type": "stream",
          "text": [
            "/usr/local/lib/python3.6/dist-packages/ipykernel_launcher.py:11: FutureWarning: set_value is deprecated and will be removed in a future release. Please use .at[] or .iat[] accessors instead\n",
            "  # This is added back by InteractiveShellApp.init_path()\n",
            "/usr/local/lib/python3.6/dist-packages/ipykernel_launcher.py:12: FutureWarning: set_value is deprecated and will be removed in a future release. Please use .at[] or .iat[] accessors instead\n",
            "  if sys.path[0] == '':\n",
            "/usr/local/lib/python3.6/dist-packages/ipykernel_launcher.py:13: FutureWarning: set_value is deprecated and will be removed in a future release. Please use .at[] or .iat[] accessors instead\n",
            "  del sys.path[0]\n",
            "/usr/local/lib/python3.6/dist-packages/ipykernel_launcher.py:14: FutureWarning: set_value is deprecated and will be removed in a future release. Please use .at[] or .iat[] accessors instead\n",
            "  \n",
            "/usr/local/lib/python3.6/dist-packages/ipykernel_launcher.py:15: FutureWarning: set_value is deprecated and will be removed in a future release. Please use .at[] or .iat[] accessors instead\n",
            "  from ipykernel import kernelapp as app\n"
          ],
          "name": "stderr"
        },
        {
          "output_type": "execute_result",
          "data": {
            "text/html": [
              "<div>\n",
              "<style scoped>\n",
              "    .dataframe tbody tr th:only-of-type {\n",
              "        vertical-align: middle;\n",
              "    }\n",
              "\n",
              "    .dataframe tbody tr th {\n",
              "        vertical-align: top;\n",
              "    }\n",
              "\n",
              "    .dataframe thead th {\n",
              "        text-align: right;\n",
              "    }\n",
              "</style>\n",
              "<table border=\"1\" class=\"dataframe\">\n",
              "  <thead>\n",
              "    <tr style=\"text-align: right;\">\n",
              "      <th></th>\n",
              "      <th>listing_id</th>\n",
              "      <th>id</th>\n",
              "      <th>date</th>\n",
              "      <th>reviewer_id</th>\n",
              "      <th>reviewer_name</th>\n",
              "      <th>comments</th>\n",
              "      <th>polarity_value</th>\n",
              "      <th>neg</th>\n",
              "      <th>pos</th>\n",
              "      <th>neu</th>\n",
              "      <th>compound</th>\n",
              "    </tr>\n",
              "  </thead>\n",
              "  <tbody>\n",
              "    <tr>\n",
              "      <th>0</th>\n",
              "      <td>9452127</td>\n",
              "      <td>58944174</td>\n",
              "      <td>2016-01-05</td>\n",
              "      <td>6279455</td>\n",
              "      <td>Ravi</td>\n",
              "      <td>Great place. Helena was prompt to reply and ve...</td>\n",
              "      <td>{'neg': 0.0, 'neu': 0.692, 'pos': 0.308, 'comp...</td>\n",
              "      <td>0.00</td>\n",
              "      <td>0.308</td>\n",
              "      <td>0.692</td>\n",
              "      <td>0.9115</td>\n",
              "    </tr>\n",
              "    <tr>\n",
              "      <th>1</th>\n",
              "      <td>9452127</td>\n",
              "      <td>59446510</td>\n",
              "      <td>2016-01-10</td>\n",
              "      <td>23770684</td>\n",
              "      <td>Shiv</td>\n",
              "      <td>We had previously stayed at the apartment over...</td>\n",
              "      <td>{'neg': 0.06, 'neu': 0.77, 'pos': 0.17, 'compo...</td>\n",
              "      <td>0.06</td>\n",
              "      <td>0.170</td>\n",
              "      <td>0.770</td>\n",
              "      <td>0.8990</td>\n",
              "    </tr>\n",
              "    <tr>\n",
              "      <th>2</th>\n",
              "      <td>9452127</td>\n",
              "      <td>59557387</td>\n",
              "      <td>2016-01-11</td>\n",
              "      <td>29070567</td>\n",
              "      <td>Jandall</td>\n",
              "      <td>Helena was a great host and extremely accommod...</td>\n",
              "      <td>{'neg': 0.0, 'neu': 0.688, 'pos': 0.312, 'comp...</td>\n",
              "      <td>0.00</td>\n",
              "      <td>0.312</td>\n",
              "      <td>0.688</td>\n",
              "      <td>0.9274</td>\n",
              "    </tr>\n",
              "    <tr>\n",
              "      <th>3</th>\n",
              "      <td>9452127</td>\n",
              "      <td>62664325</td>\n",
              "      <td>2016-02-15</td>\n",
              "      <td>58381183</td>\n",
              "      <td>Cody</td>\n",
              "      <td>Helena was extremely accessible throughout the...</td>\n",
              "      <td>{'neg': 0.0, 'neu': 0.887, 'pos': 0.113, 'comp...</td>\n",
              "      <td>0.00</td>\n",
              "      <td>0.113</td>\n",
              "      <td>0.887</td>\n",
              "      <td>0.8316</td>\n",
              "    </tr>\n",
              "    <tr>\n",
              "      <th>4</th>\n",
              "      <td>9452127</td>\n",
              "      <td>63410004</td>\n",
              "      <td>2016-02-22</td>\n",
              "      <td>29014080</td>\n",
              "      <td>Magnus</td>\n",
              "      <td>Awesome place! Looks just as in photos. Plenty...</td>\n",
              "      <td>{'neg': 0.0, 'neu': 0.651, 'pos': 0.349, 'comp...</td>\n",
              "      <td>0.00</td>\n",
              "      <td>0.349</td>\n",
              "      <td>0.651</td>\n",
              "      <td>0.9431</td>\n",
              "    </tr>\n",
              "  </tbody>\n",
              "</table>\n",
              "</div>"
            ],
            "text/plain": [
              "   listing_id        id        date  reviewer_id  ...   neg    pos    neu  compound\n",
              "0     9452127  58944174  2016-01-05      6279455  ...  0.00  0.308  0.692    0.9115\n",
              "1     9452127  59446510  2016-01-10     23770684  ...  0.06  0.170  0.770    0.8990\n",
              "2     9452127  59557387  2016-01-11     29070567  ...  0.00  0.312  0.688    0.9274\n",
              "3     9452127  62664325  2016-02-15     58381183  ...  0.00  0.113  0.887    0.8316\n",
              "4     9452127  63410004  2016-02-22     29014080  ...  0.00  0.349  0.651    0.9431\n",
              "\n",
              "[5 rows x 11 columns]"
            ]
          },
          "metadata": {
            "tags": []
          },
          "execution_count": 9
        }
      ]
    },
    {
      "cell_type": "code",
      "metadata": {
        "id": "tVkhqqZSmAO9",
        "colab_type": "code",
        "colab": {}
      },
      "source": [
        "reviewsDF.to_csv('pority_Values_reviews.csv')"
      ],
      "execution_count": 0,
      "outputs": []
    },
    {
      "cell_type": "code",
      "metadata": {
        "id": "xbsE6KwQmPqD",
        "colab_type": "code",
        "colab": {
          "base_uri": "https://localhost:8080/",
          "height": 199
        },
        "outputId": "48d55c24-6f7a-4cf9-b13b-930c7455c4b6"
      },
      "source": [
        "\n",
        "# Our dataframe consists of reviews in different language as well.Hence removing the comments which are not in english\n",
        "from langdetect import detect\n",
        "\n",
        "def detect_lang(sente):\n",
        "    sente=str(sente)\n",
        "    try:\n",
        "        return detect(sente)\n",
        "    except:\n",
        "        return \"None\"\n",
        "\n",
        "for index,row in reviewsDF.iterrows():\n",
        "    lang=detect_lang(row['comments'])\n",
        "    reviewsDF.set_value(index,'language',lang)\n",
        "    \n",
        "#taking rows whose language is English\n",
        "EngReviewsDF=reviewsDF[reviewsDF.language=='en']\n",
        "\n",
        "EngReviewsDF.head(2)"
      ],
      "execution_count": 13,
      "outputs": [
        {
          "output_type": "stream",
          "text": [
            "/usr/local/lib/python3.6/dist-packages/ipykernel_launcher.py:12: FutureWarning: set_value is deprecated and will be removed in a future release. Please use .at[] or .iat[] accessors instead\n",
            "  if sys.path[0] == '':\n"
          ],
          "name": "stderr"
        },
        {
          "output_type": "execute_result",
          "data": {
            "text/html": [
              "<div>\n",
              "<style scoped>\n",
              "    .dataframe tbody tr th:only-of-type {\n",
              "        vertical-align: middle;\n",
              "    }\n",
              "\n",
              "    .dataframe tbody tr th {\n",
              "        vertical-align: top;\n",
              "    }\n",
              "\n",
              "    .dataframe thead th {\n",
              "        text-align: right;\n",
              "    }\n",
              "</style>\n",
              "<table border=\"1\" class=\"dataframe\">\n",
              "  <thead>\n",
              "    <tr style=\"text-align: right;\">\n",
              "      <th></th>\n",
              "      <th>listing_id</th>\n",
              "      <th>id</th>\n",
              "      <th>date</th>\n",
              "      <th>reviewer_id</th>\n",
              "      <th>reviewer_name</th>\n",
              "      <th>comments</th>\n",
              "      <th>polarity_value</th>\n",
              "      <th>neg</th>\n",
              "      <th>pos</th>\n",
              "      <th>neu</th>\n",
              "      <th>compound</th>\n",
              "      <th>language</th>\n",
              "    </tr>\n",
              "  </thead>\n",
              "  <tbody>\n",
              "    <tr>\n",
              "      <th>0</th>\n",
              "      <td>9452127</td>\n",
              "      <td>58944174</td>\n",
              "      <td>2016-01-05</td>\n",
              "      <td>6279455</td>\n",
              "      <td>Ravi</td>\n",
              "      <td>Great place. Helena was prompt to reply and ve...</td>\n",
              "      <td>{'neg': 0.0, 'neu': 0.692, 'pos': 0.308, 'comp...</td>\n",
              "      <td>0.00</td>\n",
              "      <td>0.308</td>\n",
              "      <td>0.692</td>\n",
              "      <td>0.9115</td>\n",
              "      <td>en</td>\n",
              "    </tr>\n",
              "    <tr>\n",
              "      <th>1</th>\n",
              "      <td>9452127</td>\n",
              "      <td>59446510</td>\n",
              "      <td>2016-01-10</td>\n",
              "      <td>23770684</td>\n",
              "      <td>Shiv</td>\n",
              "      <td>We had previously stayed at the apartment over...</td>\n",
              "      <td>{'neg': 0.06, 'neu': 0.77, 'pos': 0.17, 'compo...</td>\n",
              "      <td>0.06</td>\n",
              "      <td>0.170</td>\n",
              "      <td>0.770</td>\n",
              "      <td>0.8990</td>\n",
              "      <td>en</td>\n",
              "    </tr>\n",
              "  </tbody>\n",
              "</table>\n",
              "</div>"
            ],
            "text/plain": [
              "   listing_id        id        date  ...    neu compound language\n",
              "0     9452127  58944174  2016-01-05  ...  0.692   0.9115       en\n",
              "1     9452127  59446510  2016-01-10  ...  0.770   0.8990       en\n",
              "\n",
              "[2 rows x 12 columns]"
            ]
          },
          "metadata": {
            "tags": []
          },
          "execution_count": 13
        }
      ]
    },
    {
      "cell_type": "code",
      "metadata": {
        "id": "8QN-S_otmKpC",
        "colab_type": "code",
        "colab": {
          "base_uri": "https://localhost:8080/",
          "height": 291
        },
        "outputId": "38fba850-ecc0-4ae2-f79c-ace981ddde8c"
      },
      "source": [
        "polarDF=EngReviewsDF[['pos']]\n",
        "polarDF=polarDF.groupby(pd.cut(polarDF[\"pos\"], np.arange(0, 1.1, 0.1))).count()\n",
        "polarDF=polarDF.rename(columns={'pos':'count_of_Comments'})\n",
        "polarDF=polarDF.reset_index()\n",
        "polarDF=polarDF.rename(columns={'pos':'range_i'})\n",
        "for i,r in polarDF.iterrows():\n",
        "    polarDF.set_value(i,'RANGE',float(str(r['range_i'])[1:4].replace(',',''))) \n",
        "    polarDF.set_value(i,'Sentiment','positive')\n",
        "del polarDF['range_i']\n",
        "polarDF.head()"
      ],
      "execution_count": 14,
      "outputs": [
        {
          "output_type": "stream",
          "text": [
            "/usr/local/lib/python3.6/dist-packages/ipykernel_launcher.py:7: FutureWarning: set_value is deprecated and will be removed in a future release. Please use .at[] or .iat[] accessors instead\n",
            "  import sys\n",
            "/usr/local/lib/python3.6/dist-packages/ipykernel_launcher.py:8: FutureWarning: set_value is deprecated and will be removed in a future release. Please use .at[] or .iat[] accessors instead\n",
            "  \n"
          ],
          "name": "stderr"
        },
        {
          "output_type": "execute_result",
          "data": {
            "text/html": [
              "<div>\n",
              "<style scoped>\n",
              "    .dataframe tbody tr th:only-of-type {\n",
              "        vertical-align: middle;\n",
              "    }\n",
              "\n",
              "    .dataframe tbody tr th {\n",
              "        vertical-align: top;\n",
              "    }\n",
              "\n",
              "    .dataframe thead th {\n",
              "        text-align: right;\n",
              "    }\n",
              "</style>\n",
              "<table border=\"1\" class=\"dataframe\">\n",
              "  <thead>\n",
              "    <tr style=\"text-align: right;\">\n",
              "      <th></th>\n",
              "      <th>count_of_Comments</th>\n",
              "      <th>RANGE</th>\n",
              "      <th>Sentiment</th>\n",
              "    </tr>\n",
              "  </thead>\n",
              "  <tbody>\n",
              "    <tr>\n",
              "      <th>0</th>\n",
              "      <td>17755</td>\n",
              "      <td>0.0</td>\n",
              "      <td>positive</td>\n",
              "    </tr>\n",
              "    <tr>\n",
              "      <th>1</th>\n",
              "      <td>110831</td>\n",
              "      <td>0.1</td>\n",
              "      <td>positive</td>\n",
              "    </tr>\n",
              "    <tr>\n",
              "      <th>2</th>\n",
              "      <td>216154</td>\n",
              "      <td>0.2</td>\n",
              "      <td>positive</td>\n",
              "    </tr>\n",
              "    <tr>\n",
              "      <th>3</th>\n",
              "      <td>175585</td>\n",
              "      <td>0.3</td>\n",
              "      <td>positive</td>\n",
              "    </tr>\n",
              "    <tr>\n",
              "      <th>4</th>\n",
              "      <td>91061</td>\n",
              "      <td>0.4</td>\n",
              "      <td>positive</td>\n",
              "    </tr>\n",
              "  </tbody>\n",
              "</table>\n",
              "</div>"
            ],
            "text/plain": [
              "   count_of_Comments  RANGE Sentiment\n",
              "0              17755    0.0  positive\n",
              "1             110831    0.1  positive\n",
              "2             216154    0.2  positive\n",
              "3             175585    0.3  positive\n",
              "4              91061    0.4  positive"
            ]
          },
          "metadata": {
            "tags": []
          },
          "execution_count": 14
        }
      ]
    },
    {
      "cell_type": "code",
      "metadata": {
        "id": "JGmCJ89-mU7P",
        "colab_type": "code",
        "colab": {
          "base_uri": "https://localhost:8080/",
          "height": 291
        },
        "outputId": "eb58012b-d6df-4c86-ecaf-c84d1e2546bd"
      },
      "source": [
        "# Lets visualize polarity score for negativity\n",
        "\n",
        "polarDFneg=EngReviewsDF[['neg']]\n",
        "polarDFneg=polarDFneg.groupby(pd.cut(polarDFneg[\"neg\"], np.arange(0, 1.1, 0.1))).count()\n",
        "polarDFneg=polarDFneg.rename(columns={'neg':'count_of_Comments'})\n",
        "polarDFneg=polarDFneg.reset_index()\n",
        "polarDFneg=polarDFneg.rename(columns={'neg':'range_i'})\n",
        "for i,r in polarDFneg.iterrows():\n",
        "    polarDFneg.set_value(i,'RANGE',float(str(r['range_i'])[1:4].replace(',',''))) \n",
        "    polarDFneg.set_value(i,'Sentiment','negative')\n",
        "del polarDFneg['range_i']\n",
        "for i,r in polarDFneg.iterrows():\n",
        "    polarDF=polarDF.append(pd.Series([r[0],r[1],r[2]],index=['count_of_Comments','RANGE','Sentiment']),ignore_index=True)\n",
        "    \n",
        "polarDFneg.head()"
      ],
      "execution_count": 15,
      "outputs": [
        {
          "output_type": "stream",
          "text": [
            "/usr/local/lib/python3.6/dist-packages/ipykernel_launcher.py:8: FutureWarning: set_value is deprecated and will be removed in a future release. Please use .at[] or .iat[] accessors instead\n",
            "  \n",
            "/usr/local/lib/python3.6/dist-packages/ipykernel_launcher.py:9: FutureWarning: set_value is deprecated and will be removed in a future release. Please use .at[] or .iat[] accessors instead\n",
            "  if __name__ == '__main__':\n"
          ],
          "name": "stderr"
        },
        {
          "output_type": "execute_result",
          "data": {
            "text/html": [
              "<div>\n",
              "<style scoped>\n",
              "    .dataframe tbody tr th:only-of-type {\n",
              "        vertical-align: middle;\n",
              "    }\n",
              "\n",
              "    .dataframe tbody tr th {\n",
              "        vertical-align: top;\n",
              "    }\n",
              "\n",
              "    .dataframe thead th {\n",
              "        text-align: right;\n",
              "    }\n",
              "</style>\n",
              "<table border=\"1\" class=\"dataframe\">\n",
              "  <thead>\n",
              "    <tr style=\"text-align: right;\">\n",
              "      <th></th>\n",
              "      <th>count_of_Comments</th>\n",
              "      <th>RANGE</th>\n",
              "      <th>Sentiment</th>\n",
              "    </tr>\n",
              "  </thead>\n",
              "  <tbody>\n",
              "    <tr>\n",
              "      <th>0</th>\n",
              "      <td>199941</td>\n",
              "      <td>0.0</td>\n",
              "      <td>negative</td>\n",
              "    </tr>\n",
              "    <tr>\n",
              "      <th>1</th>\n",
              "      <td>15383</td>\n",
              "      <td>0.1</td>\n",
              "      <td>negative</td>\n",
              "    </tr>\n",
              "    <tr>\n",
              "      <th>2</th>\n",
              "      <td>1785</td>\n",
              "      <td>0.2</td>\n",
              "      <td>negative</td>\n",
              "    </tr>\n",
              "    <tr>\n",
              "      <th>3</th>\n",
              "      <td>463</td>\n",
              "      <td>0.3</td>\n",
              "      <td>negative</td>\n",
              "    </tr>\n",
              "    <tr>\n",
              "      <th>4</th>\n",
              "      <td>188</td>\n",
              "      <td>0.4</td>\n",
              "      <td>negative</td>\n",
              "    </tr>\n",
              "  </tbody>\n",
              "</table>\n",
              "</div>"
            ],
            "text/plain": [
              "   count_of_Comments  RANGE Sentiment\n",
              "0             199941    0.0  negative\n",
              "1              15383    0.1  negative\n",
              "2               1785    0.2  negative\n",
              "3                463    0.3  negative\n",
              "4                188    0.4  negative"
            ]
          },
          "metadata": {
            "tags": []
          },
          "execution_count": 15
        }
      ]
    },
    {
      "cell_type": "code",
      "metadata": {
        "id": "pKn3TbVKmYu3",
        "colab_type": "code",
        "colab": {
          "base_uri": "https://localhost:8080/",
          "height": 291
        },
        "outputId": "e41d121d-f4ee-4381-b29f-5d717b16cd24"
      },
      "source": [
        "# Lets visualize polarity score for neutrality\n",
        "\n",
        "polarDFnut=EngReviewsDF[['neu']]\n",
        "polarDFnut=polarDFnut.groupby(pd.cut(polarDFnut[\"neu\"], np.arange(0, 1.0, 0.1))).count()\n",
        "polarDFnut=polarDFnut.rename(columns={'neu':'count_of_Comments'})\n",
        "polarDFnut=polarDFnut.reset_index()\n",
        "polarDFnut=polarDFnut.rename(columns={'neu':'range_i'})\n",
        "for i,r in polarDFnut.iterrows():\n",
        "    polarDFnut.set_value(i,'RANGE',float(str(r['range_i'])[1:4].replace(',',''))) \n",
        "    polarDFnut.set_value(i,'Sentiment','neutrl')\n",
        "del polarDFnut['range_i']\n",
        "\n",
        "for i,r in polarDFnut.iterrows():\n",
        "    polarDF=polarDF.append(pd.Series([r[0],r[1],r[2]],index=['count_of_Comments','RANGE','Sentiment']),ignore_index=True)\n",
        "    \n",
        "polarDFnut.head()"
      ],
      "execution_count": 16,
      "outputs": [
        {
          "output_type": "stream",
          "text": [
            "/usr/local/lib/python3.6/dist-packages/ipykernel_launcher.py:8: FutureWarning: set_value is deprecated and will be removed in a future release. Please use .at[] or .iat[] accessors instead\n",
            "  \n",
            "/usr/local/lib/python3.6/dist-packages/ipykernel_launcher.py:9: FutureWarning: set_value is deprecated and will be removed in a future release. Please use .at[] or .iat[] accessors instead\n",
            "  if __name__ == '__main__':\n"
          ],
          "name": "stderr"
        },
        {
          "output_type": "execute_result",
          "data": {
            "text/html": [
              "<div>\n",
              "<style scoped>\n",
              "    .dataframe tbody tr th:only-of-type {\n",
              "        vertical-align: middle;\n",
              "    }\n",
              "\n",
              "    .dataframe tbody tr th {\n",
              "        vertical-align: top;\n",
              "    }\n",
              "\n",
              "    .dataframe thead th {\n",
              "        text-align: right;\n",
              "    }\n",
              "</style>\n",
              "<table border=\"1\" class=\"dataframe\">\n",
              "  <thead>\n",
              "    <tr style=\"text-align: right;\">\n",
              "      <th></th>\n",
              "      <th>count_of_Comments</th>\n",
              "      <th>RANGE</th>\n",
              "      <th>Sentiment</th>\n",
              "    </tr>\n",
              "  </thead>\n",
              "  <tbody>\n",
              "    <tr>\n",
              "      <th>0</th>\n",
              "      <td>172</td>\n",
              "      <td>0.0</td>\n",
              "      <td>neutrl</td>\n",
              "    </tr>\n",
              "    <tr>\n",
              "      <th>1</th>\n",
              "      <td>5066</td>\n",
              "      <td>0.1</td>\n",
              "      <td>neutrl</td>\n",
              "    </tr>\n",
              "    <tr>\n",
              "      <th>2</th>\n",
              "      <td>9846</td>\n",
              "      <td>0.2</td>\n",
              "      <td>neutrl</td>\n",
              "    </tr>\n",
              "    <tr>\n",
              "      <th>3</th>\n",
              "      <td>20061</td>\n",
              "      <td>0.3</td>\n",
              "      <td>neutrl</td>\n",
              "    </tr>\n",
              "    <tr>\n",
              "      <th>4</th>\n",
              "      <td>44763</td>\n",
              "      <td>0.4</td>\n",
              "      <td>neutrl</td>\n",
              "    </tr>\n",
              "  </tbody>\n",
              "</table>\n",
              "</div>"
            ],
            "text/plain": [
              "   count_of_Comments  RANGE Sentiment\n",
              "0                172    0.0    neutrl\n",
              "1               5066    0.1    neutrl\n",
              "2               9846    0.2    neutrl\n",
              "3              20061    0.3    neutrl\n",
              "4              44763    0.4    neutrl"
            ]
          },
          "metadata": {
            "tags": []
          },
          "execution_count": 16
        }
      ]
    },
    {
      "cell_type": "code",
      "metadata": {
        "id": "5A4PbDN8mmyw",
        "colab_type": "code",
        "colab": {
          "base_uri": "https://localhost:8080/",
          "height": 444
        },
        "outputId": "ebf8bb62-83c6-4898-b1bf-d3ba4b8dd034"
      },
      "source": [
        "import seaborn as sns\n",
        "%matplotlib inline\n",
        "import matplotlib\n",
        "import matplotlib.pyplot as plt\n",
        "\n",
        "plt.figure(figsize=(10,10))\n",
        "sns.factorplot(data=polarDF, x=\"RANGE\", y=\"count_of_Comments\",col=\"Sentiment\")\n",
        "plt.savefig('sentiment_plot.png')"
      ],
      "execution_count": 18,
      "outputs": [
        {
          "output_type": "stream",
          "text": [
            "/usr/local/lib/python3.6/dist-packages/seaborn/categorical.py:3666: UserWarning: The `factorplot` function has been renamed to `catplot`. The original name will be removed in a future release. Please update your code. Note that the default `kind` in `factorplot` (`'point'`) has changed `'strip'` in `catplot`.\n",
            "  warnings.warn(msg)\n"
          ],
          "name": "stderr"
        },
        {
          "output_type": "display_data",
          "data": {
            "text/plain": [
              "<Figure size 720x720 with 0 Axes>"
            ]
          },
          "metadata": {
            "tags": []
          }
        },
        {
          "output_type": "display_data",
          "data": {
            "image/png": "[encoded data removed]",
            "text/plain": [
              "<Figure size 1080x360 with 3 Axes>"
            ]
          },
          "metadata": {
            "tags": []
          }
        }
      ]
    },
    {
      "cell_type": "markdown",
      "metadata": {
        "id": "vHhmwuJM7HS0",
        "colab_type": "text"
      },
      "source": [
        "Most of the Comments are Neutral, while a few positve ones can also be seen. Negative comments are very few"
      ]
    }
  ]
}