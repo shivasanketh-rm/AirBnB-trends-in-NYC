{
 "cells": [
  {
   "cell_type": "code",
   "execution_count": 1,
   "metadata": {},
   "outputs": [],
   "source": [
    "import pandas as pd"
   ]
  },
  {
   "cell_type": "markdown",
   "metadata": {},
   "source": [
    "# Data loading, Basic information gathering"
   ]
  },
  {
   "cell_type": "code",
   "execution_count": 8,
   "metadata": {},
   "outputs": [],
   "source": [
    "\n",
    "#loading the dataset\n",
    "listings = pd.read_csv(\"./airbnb-open-data-in-nyc/listings_summary.csv\")\n",
    "calendar = pd.read_csv(\"./airbnb-open-data-in-nyc/calendar_detail.csv\")\n",
    "reviews = pd.read_csv(\"./airbnb-open-data-in-nyc/reviews_summary.csv\")\n",
    "neighbourhoods = pd.read_csv(\"./airbnb-open-data-in-nyc/neighbourhoods.csv\")"
   ]
  },
  {
   "cell_type": "code",
   "execution_count": 25,
   "metadata": {},
   "outputs": [
    {
     "name": "stdout",
     "output_type": "stream",
     "text": [
      "Number of Entrees in listings = 44317,  Total attributes = 16 \n",
      "Number of Entrees in calendar = 16182640, Total attributes = 4 \n",
      "Number of Entrees in reviews = 801784, Total attributes = 2 \n",
      "Number of Entrees in neighbourhoods = 230,  Total attributes = 2 \n"
     ]
    }
   ],
   "source": [
    "print(\"Number of Entrees in listings = {},  Total attributes = {} \" .format(listings.shape[0],listings.shape[1]))\n",
    "print(\"Number of Entrees in calendar = {}, Total attributes = {} \" .format(calendar.shape[0],calendar.shape[1]))\n",
    "print(\"Number of Entrees in reviews = {}, Total attributes = {} \" .format(reviews.shape[0],reviews.shape[1]))\n",
    "print(\"Number of Entrees in neighbourhoods = {},  Total attributes = {} \" .format(neighbourhoods.shape[0],neighbourhoods.shape[1]))"
   ]
  },
  {
   "cell_type": "code",
   "execution_count": 26,
   "metadata": {},
   "outputs": [
    {
     "name": "stdout",
     "output_type": "stream",
     "text": [
      "<class 'pandas.core.frame.DataFrame'>\n",
      "RangeIndex: 44317 entries, 0 to 44316\n",
      "Data columns (total 16 columns):\n",
      "id                                44317 non-null int64\n",
      "name                              44289 non-null object\n",
      "host_id                           44317 non-null int64\n",
      "host_name                         44085 non-null object\n",
      "neighbourhood_group               44317 non-null object\n",
      "neighbourhood                     44317 non-null object\n",
      "latitude                          44317 non-null float64\n",
      "longitude                         44317 non-null float64\n",
      "room_type                         44317 non-null object\n",
      "price                             44317 non-null int64\n",
      "minimum_nights                    44317 non-null int64\n",
      "number_of_reviews                 44317 non-null int64\n",
      "last_review                       34877 non-null object\n",
      "reviews_per_month                 34843 non-null float64\n",
      "calculated_host_listings_count    44317 non-null int64\n",
      "availability_365                  44317 non-null int64\n",
      "dtypes: float64(3), int64(7), object(6)\n",
      "memory usage: 5.4+ MB\n"
     ]
    }
   ],
   "source": [
    "listings.info()"
   ]
  },
  {
   "cell_type": "code",
   "execution_count": 35,
   "metadata": {},
   "outputs": [
    {
     "name": "stdout",
     "output_type": "stream",
     "text": [
      "The columns with no null values in listings =  {'room_type', 'id', 'longitude', 'host_id', 'availability_365', 'neighbourhood', 'price', 'minimum_nights', 'number_of_reviews', 'calculated_host_listings_count', 'neighbourhood_group', 'latitude'}\n",
      "The columns with no null values in calendar =  {'available', 'listing_id', 'date'}\n",
      "The columns with no null values in reviews =  {'listing_id', 'date'}\n",
      "The columns with no null values in neighbourhoods =  {'neighbourhood', 'neighbourhood_group'}\n"
     ]
    }
   ],
   "source": [
    "#Check the columns with no missing values\n",
    "no_nulls_listings = set(listings.columns[listings.isnull().mean() == 0])\n",
    "print(\"The columns with no null values in listings = \",no_nulls_listings )\n",
    "\n",
    "no_nulls_calendar = set(calendar.columns[calendar.isnull().mean() == 0])\n",
    "print(\"The columns with no null values in calendar = \",no_nulls_calendar )\n",
    "\n",
    "no_nulls_reviews = set(reviews.columns[reviews.isnull().mean() == 0])\n",
    "print(\"The columns with no null values in reviews = \",no_nulls_reviews )\n",
    "\n",
    "no_nulls_neighbourhoods = set(neighbourhoods.columns[neighbourhoods.isnull().mean() == 0])\n",
    "print(\"The columns with no null values in neighbourhoods = \",no_nulls_neighbourhoods )"
   ]
  },
  {
   "cell_type": "markdown",
   "metadata": {},
   "source": [
    "# Columns with more than half missing values"
   ]
  },
  {
   "cell_type": "code",
   "execution_count": 40,
   "metadata": {},
   "outputs": [
    {
     "name": "stdout",
     "output_type": "stream",
     "text": [
      "The columns with more than half missing values in listings =  set()\n",
      "The columns with more than half missing values values in calendar =  {'price'}\n",
      "The columns with more than half missing values values in reviews =  set()\n",
      "The columns with more than half missing values values in neighbourhoods =  set()\n"
     ]
    }
   ],
   "source": [
    "#Check the columns with most missing values\n",
    "most_nulls_listings = set(listings.columns[listings.isnull().mean() > 0.5])\n",
    "print(\"The columns with more than half missing values in listings = \",most_nulls_listings )\n",
    "\n",
    "most_nulls_calendar = set(calendar.columns[calendar.isnull().mean() > 0.5])\n",
    "print(\"The columns with more than half missing values values in calendar = \",most_nulls_calendar )\n",
    "\n",
    "most_nulls_reviews = set(reviews.columns[reviews.isnull().mean() > 0.5])\n",
    "print(\"The columns with more than half missing values values in reviews = \",most_nulls_reviews )\n",
    "\n",
    "most_nulls_neighbourhoods = set(neighbourhoods.columns[neighbourhoods.isnull().mean() > 0.5])\n",
    "print(\"The columns with more than half missing values values in neighbourhoods = \",most_nulls_neighbourhoods )"
   ]
  },
  {
   "cell_type": "code",
   "execution_count": null,
   "metadata": {},
   "outputs": [],
   "source": []
  }
 ],
 "metadata": {
  "kernelspec": {
   "display_name": "Python 3",
   "language": "python",
   "name": "python3"
  },
  "language_info": {
   "codemirror_mode": {
    "name": "ipython",
    "version": 3
   },
   "file_extension": ".py",
   "mimetype": "text/x-python",
   "name": "python",
   "nbconvert_exporter": "python",
   "pygments_lexer": "ipython3",
   "version": "3.5.2"
  }
 },
 "nbformat": 4,
 "nbformat_minor": 2
}
